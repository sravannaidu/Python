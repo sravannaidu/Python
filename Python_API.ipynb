{
  "nbformat": 4,
  "nbformat_minor": 0,
  "metadata": {
    "colab": {
      "provenance": [],
      "toc_visible": true,
      "authorship_tag": "ABX9TyMRXHtdQVM6dqtbqWnZ2aCK"
    },
    "kernelspec": {
      "name": "python3",
      "display_name": "Python 3"
    },
    "language_info": {
      "name": "python"
    }
  },
  "cells": [
    {
      "cell_type": "markdown",
      "source": [
        "**Python API**"
      ],
      "metadata": {
        "id": "-ORJz1a80m1i"
      }
    },
    {
      "cell_type": "code",
      "execution_count": null,
      "metadata": {
        "id": "F0VygqHA0QCG"
      },
      "outputs": [],
      "source": [
        "url=\"https://www.alphavantage.co/query?function=TIME_SERIES_INTRADAY&symbol=IBM&interval=5min&outputsize=full&apikey=de\""
      ]
    },
    {
      "cell_type": "code",
      "source": [
        "import requests\n",
        "import json"
      ],
      "metadata": {
        "id": "xRg1d-IT036v"
      },
      "execution_count": null,
      "outputs": []
    },
    {
      "cell_type": "code",
      "source": [
        "url=\"https://www.alphavantage.co/query?function=TIME_SERIES_INTRADAY&symbol=IBM&interval=5min&outputsize=full&apikey=de\"\n",
        "response = requests.get(url)\n",
        "\n",
        "data = response.json()\n",
        "data"
      ],
      "metadata": {
        "colab": {
          "base_uri": "https://localhost:8080/"
        },
        "collapsed": true,
        "id": "idy1ZV-O2HWG",
        "outputId": "19cf5124-835a-4155-afd4-1a29a15ad956"
      },
      "execution_count": null,
      "outputs": [
        {
          "output_type": "execute_result",
          "data": {
            "text/plain": [
              "{'Information': 'We have detected your API key as de and our standard API rate limit is 25 requests per day. Please subscribe to any of the premium plans at https://www.alphavantage.co/premium/ to instantly remove all daily rate limits.'}"
            ]
          },
          "metadata": {},
          "execution_count": 71
        }
      ]
    },
    {
      "cell_type": "code",
      "source": [
        "last_refreshed=data[\"Meta Data\"][\"3. Last Refreshed\"]\n",
        "price=data[ \"Time Series (5min)\"][last_refreshed][\"1. open\"]\n",
        "price"
      ],
      "metadata": {
        "colab": {
          "base_uri": "https://localhost:8080/",
          "height": 176
        },
        "id": "tHiefNSQ3gyd",
        "outputId": "7878bcd9-1cf6-4f9c-ce4f-ea281c5275da"
      },
      "execution_count": null,
      "outputs": [
        {
          "output_type": "error",
          "ename": "KeyError",
          "evalue": "'Meta Data'",
          "traceback": [
            "\u001b[0;31m---------------------------------------------------------------------------\u001b[0m",
            "\u001b[0;31mKeyError\u001b[0m                                  Traceback (most recent call last)",
            "\u001b[0;32m<ipython-input-72-c8ee055bc47c>\u001b[0m in \u001b[0;36m<cell line: 0>\u001b[0;34m()\u001b[0m\n\u001b[0;32m----> 1\u001b[0;31m \u001b[0mlast_refreshed\u001b[0m\u001b[0;34m=\u001b[0m\u001b[0mdata\u001b[0m\u001b[0;34m[\u001b[0m\u001b[0;34m\"Meta Data\"\u001b[0m\u001b[0;34m]\u001b[0m\u001b[0;34m[\u001b[0m\u001b[0;34m\"3. Last Refreshed\"\u001b[0m\u001b[0;34m]\u001b[0m\u001b[0;34m\u001b[0m\u001b[0;34m\u001b[0m\u001b[0m\n\u001b[0m\u001b[1;32m      2\u001b[0m \u001b[0mprice\u001b[0m\u001b[0;34m=\u001b[0m\u001b[0mdata\u001b[0m\u001b[0;34m[\u001b[0m \u001b[0;34m\"Time Series (5min)\"\u001b[0m\u001b[0;34m]\u001b[0m\u001b[0;34m[\u001b[0m\u001b[0mlast_refreshed\u001b[0m\u001b[0;34m]\u001b[0m\u001b[0;34m[\u001b[0m\u001b[0;34m\"1. open\"\u001b[0m\u001b[0;34m]\u001b[0m\u001b[0;34m\u001b[0m\u001b[0;34m\u001b[0m\u001b[0m\n\u001b[1;32m      3\u001b[0m \u001b[0mprice\u001b[0m\u001b[0;34m\u001b[0m\u001b[0;34m\u001b[0m\u001b[0m\n",
            "\u001b[0;31mKeyError\u001b[0m: 'Meta Data'"
          ]
        }
      ]
    },
    {
      "cell_type": "code",
      "source": [
        "\n",
        "def get_stock_data(url):\n",
        "  url=\"https://www.alphavantage.co/query?function=TIME_SERIES_INTRADAY&symbol=IBM&interval=5min&outputsize=full&apikey=de\"\n",
        "  response = requests.get(url)\n",
        "\n",
        "  if response.status_code == 200:\n",
        "    data = response.json()\n",
        "    last_refreshed = data[\"Meta Data\"][\"3. Last Refreshed\"]\n",
        "    price=data[ \"Time Series (5min)\"][last_refreshed][\"1. open\"]\n",
        "    return price\n",
        "\n",
        "  else:\n",
        "    return None\n",
        "\n",
        "get_stock_data(url)"
      ],
      "metadata": {
        "colab": {
          "base_uri": "https://localhost:8080/",
          "height": 297
        },
        "id": "3Bj7i6sk5szZ",
        "outputId": "4a30a5a2-1a2f-4584-a109-a1d598181805"
      },
      "execution_count": null,
      "outputs": [
        {
          "output_type": "error",
          "ename": "KeyError",
          "evalue": "'Meta Data'",
          "traceback": [
            "\u001b[0;31m---------------------------------------------------------------------------\u001b[0m",
            "\u001b[0;31mKeyError\u001b[0m                                  Traceback (most recent call last)",
            "\u001b[0;32m<ipython-input-69-6ffb940439d0>\u001b[0m in \u001b[0;36m<cell line: 0>\u001b[0;34m()\u001b[0m\n\u001b[1;32m     12\u001b[0m     \u001b[0;32mreturn\u001b[0m \u001b[0;32mNone\u001b[0m\u001b[0;34m\u001b[0m\u001b[0;34m\u001b[0m\u001b[0m\n\u001b[1;32m     13\u001b[0m \u001b[0;34m\u001b[0m\u001b[0m\n\u001b[0;32m---> 14\u001b[0;31m \u001b[0mget_stock_data\u001b[0m\u001b[0;34m(\u001b[0m\u001b[0murl\u001b[0m\u001b[0;34m)\u001b[0m\u001b[0;34m\u001b[0m\u001b[0;34m\u001b[0m\u001b[0m\n\u001b[0m",
            "\u001b[0;32m<ipython-input-69-6ffb940439d0>\u001b[0m in \u001b[0;36mget_stock_data\u001b[0;34m(url)\u001b[0m\n\u001b[1;32m      5\u001b[0m   \u001b[0;32mif\u001b[0m \u001b[0mresponse\u001b[0m\u001b[0;34m.\u001b[0m\u001b[0mstatus_code\u001b[0m \u001b[0;34m==\u001b[0m \u001b[0;36m200\u001b[0m\u001b[0;34m:\u001b[0m\u001b[0;34m\u001b[0m\u001b[0;34m\u001b[0m\u001b[0m\n\u001b[1;32m      6\u001b[0m     \u001b[0mdata\u001b[0m \u001b[0;34m=\u001b[0m \u001b[0mresponse\u001b[0m\u001b[0;34m.\u001b[0m\u001b[0mjson\u001b[0m\u001b[0;34m(\u001b[0m\u001b[0;34m)\u001b[0m\u001b[0;34m\u001b[0m\u001b[0;34m\u001b[0m\u001b[0m\n\u001b[0;32m----> 7\u001b[0;31m     \u001b[0mlast_refreshed\u001b[0m \u001b[0;34m=\u001b[0m \u001b[0mdata\u001b[0m\u001b[0;34m[\u001b[0m\u001b[0;34m\"Meta Data\"\u001b[0m\u001b[0;34m]\u001b[0m\u001b[0;34m[\u001b[0m\u001b[0;34m\"3. Last Refreshed\"\u001b[0m\u001b[0;34m]\u001b[0m\u001b[0;34m\u001b[0m\u001b[0;34m\u001b[0m\u001b[0m\n\u001b[0m\u001b[1;32m      8\u001b[0m     \u001b[0mprice\u001b[0m\u001b[0;34m=\u001b[0m\u001b[0mdata\u001b[0m\u001b[0;34m[\u001b[0m \u001b[0;34m\"Time Series (5min)\"\u001b[0m\u001b[0;34m]\u001b[0m\u001b[0;34m[\u001b[0m\u001b[0mlast_refreshed\u001b[0m\u001b[0;34m]\u001b[0m\u001b[0;34m[\u001b[0m\u001b[0;34m\"1. open\"\u001b[0m\u001b[0;34m]\u001b[0m\u001b[0;34m\u001b[0m\u001b[0;34m\u001b[0m\u001b[0m\n\u001b[1;32m      9\u001b[0m     \u001b[0;32mreturn\u001b[0m \u001b[0mprice\u001b[0m\u001b[0;34m\u001b[0m\u001b[0;34m\u001b[0m\u001b[0m\n",
            "\u001b[0;31mKeyError\u001b[0m: 'Meta Data'"
          ]
        }
      ]
    },
    {
      "cell_type": "code",
      "source": [
        "stock_prices = {}\n",
        "price = get_stock_data(url)\n",
        "# if prices is not None:\n",
        "#   stock_prices[\"IBM\"] = prices\n",
        "#   print(f\"stock price of IBM is {stock_prices}\")\n",
        "symbol = \"IBM\"\n",
        "if price is not None:\n",
        "  stock_prices[symbol] = price\n",
        "  print(stock_prices)\n",
        "else:\n",
        "  print(\"error\")\n"
      ],
      "metadata": {
        "colab": {
          "base_uri": "https://localhost:8080/"
        },
        "id": "GjN2hjav6bU7",
        "outputId": "eafb7522-3be7-4312-a307-595275c7fddc"
      },
      "execution_count": null,
      "outputs": [
        {
          "output_type": "stream",
          "name": "stdout",
          "text": [
            "error\n"
          ]
        }
      ]
    },
    {
      "cell_type": "code",
      "source": [
        "print(\"hello\")"
      ],
      "metadata": {
        "colab": {
          "base_uri": "https://localhost:8080/"
        },
        "id": "5W4cq0El9WEC",
        "outputId": "2e6f3a9b-1634-45fe-91fa-0e5c7a8e6c59"
      },
      "execution_count": null,
      "outputs": [
        {
          "output_type": "stream",
          "name": "stdout",
          "text": [
            "hello\n"
          ]
        }
      ]
    },
    {
      "cell_type": "markdown",
      "source": [
        "**News API**"
      ],
      "metadata": {
        "id": "6-i9fzaACFni"
      }
    },
    {
      "cell_type": "code",
      "source": [
        "import requests\n",
        "API_KEY = \"pub_388954d1209c4ef3b9816523cf56806a\"\n",
        "url = f\"https://newsdata.io/api/1/latest?apikey={API_KEY}\"\n",
        "response = requests.get(url)\n",
        "data = response.json()\n",
        "# print(response.status_code)\n",
        "data"
      ],
      "metadata": {
        "colab": {
          "base_uri": "https://localhost:8080/"
        },
        "id": "D5CerIrKCKsr",
        "outputId": "0a34ddc8-22eb-4e38-822b-cf21c9e11514"
      },
      "execution_count": null,
      "outputs": [
        {
          "output_type": "execute_result",
          "data": {
            "text/plain": [
              "{'status': 'success',\n",
              " 'totalResults': 682734,\n",
              " 'results': [{'article_id': '01c574eeb54e2bcbb0148590ca1dd973',\n",
              "   'title': 'Nors vaidmuo krizių metu esminis, nevyriausybininkai sako, kad informacijos jiems trūksta',\n",
              "   'link': 'https://www.lrt.lt/naujienos/lietuvoje/2/2570393/nors-vaidmuo-kriziu-metu-esminis-nevyriausybininkai-sako-kad-informacijos-jiems-truksta',\n",
              "   'keywords': ['lietuvoje'],\n",
              "   'creator': None,\n",
              "   'description': 'Rengiantis krizėms, regioninėse savivaldybėse trūksta ir specialistų, ir mokymų. Krizių valdymo centro (NKVC) vadovas esminiu vadina nevyriausybinių organizacijų vaidmenį. Tačiau Lietuvos Raudonasis kryžius sako, kad ir jiems trūksta informacijos. Ukrainos ir Suomijos raudonojo kryžiaus atstovai pabrėžia, kad valdanti krizes reikia kuo detaliau pasidalyti atsakomybę su nevyriausybininkais.',\n",
              "   'content': 'ONLY AVAILABLE IN PAID PLANS',\n",
              "   'pubDate': '2025-05-21 20:26:00',\n",
              "   'pubDateTZ': 'UTC',\n",
              "   'image_url': 'https://www.lrt.lt/img/2024/10/08/1878221-18089-1287x836.jpg',\n",
              "   'video_url': None,\n",
              "   'source_id': 'lrt',\n",
              "   'source_name': 'Lrt',\n",
              "   'source_priority': 148707,\n",
              "   'source_url': 'https://www.lrt.lt',\n",
              "   'source_icon': 'https://n.bytvi.com/lrt.png',\n",
              "   'language': 'lithuanian',\n",
              "   'country': ['lithuania'],\n",
              "   'category': ['top'],\n",
              "   'sentiment': 'ONLY AVAILABLE IN PROFESSIONAL AND CORPORATE PLANS',\n",
              "   'sentiment_stats': 'ONLY AVAILABLE IN PROFESSIONAL AND CORPORATE PLANS',\n",
              "   'ai_tag': 'ONLY AVAILABLE IN PROFESSIONAL AND CORPORATE PLANS',\n",
              "   'ai_region': 'ONLY AVAILABLE IN CORPORATE PLANS',\n",
              "   'ai_org': 'ONLY AVAILABLE IN CORPORATE PLANS',\n",
              "   'duplicate': False},\n",
              "  {'article_id': 'fdda891bef0444bee5a0363e174dfe44',\n",
              "   'title': 'Молодая жена Игоря Николаева ошарашила своим преображением: вот что случилось с Юлией Проскуряковой',\n",
              "   'link': 'https://www.kp.ru/daily/27702/5091019/?from=twall',\n",
              "   'keywords': ['шоу-бизнес'],\n",
              "   'creator': None,\n",
              "   'description': 'Молодая жена Игоря Николаева изменилась до неузнаваемости',\n",
              "   'content': 'ONLY AVAILABLE IN PAID PLANS',\n",
              "   'pubDate': '2025-05-21 20:26:00',\n",
              "   'pubDateTZ': 'UTC',\n",
              "   'image_url': 'https://s13.stc.yc.kpcdn.net/share/i/12/14514473/cr-1200-630.wm-asnplfru-100-tr-0-0.t-13-5091019-ttps-54-14-0083CD-1010-l-85-b-42.t-13-5091019-ttps-54-14-FFF-1010-l-85-b-42.t-207-3-asb-37-10-FFF-788-l-370-t-68.m2025-05-21T23-27-39.jpg',\n",
              "   'video_url': None,\n",
              "   'source_id': 'kp_ru',\n",
              "   'source_name': 'Kp Ru',\n",
              "   'source_priority': 27100,\n",
              "   'source_url': 'https://www.kp.ru',\n",
              "   'source_icon': 'https://n.bytvi.com/kp_ru.png',\n",
              "   'language': 'russian',\n",
              "   'country': ['russia'],\n",
              "   'category': ['top'],\n",
              "   'sentiment': 'ONLY AVAILABLE IN PROFESSIONAL AND CORPORATE PLANS',\n",
              "   'sentiment_stats': 'ONLY AVAILABLE IN PROFESSIONAL AND CORPORATE PLANS',\n",
              "   'ai_tag': 'ONLY AVAILABLE IN PROFESSIONAL AND CORPORATE PLANS',\n",
              "   'ai_region': 'ONLY AVAILABLE IN CORPORATE PLANS',\n",
              "   'ai_org': 'ONLY AVAILABLE IN CORPORATE PLANS',\n",
              "   'duplicate': False},\n",
              "  {'article_id': 'e2d3bbc85ac687d4ed62d85d393be7ed',\n",
              "   'title': 'Borr Drilling Limited Announces First Quarter 2025 Results',\n",
              "   'link': 'https://www.victoriaadvocate.com/borr-drilling-limited-announces-first-quarter-2025-results/article_8026b90a-879d-56cf-ad9b-e5c5dcc7754c.html',\n",
              "   'keywords': None,\n",
              "   'creator': ['By Borr Drilling Limited'],\n",
              "   'description': 'HAMILTON, Bermuda, May 21, 2025 /PRNewswire/ -- Borr Drilling Limited (\"Borr\", \"Borr Drilling\" or the \"Company\") announces unaudited results for the three months ended March 31, 2025.',\n",
              "   'content': 'ONLY AVAILABLE IN PAID PLANS',\n",
              "   'pubDate': '2025-05-21 20:26:00',\n",
              "   'pubDateTZ': 'UTC',\n",
              "   'image_url': None,\n",
              "   'video_url': None,\n",
              "   'source_id': 'victoriaadvocate',\n",
              "   'source_name': 'Victoria Advocate',\n",
              "   'source_priority': 18922,\n",
              "   'source_url': 'https://www.victoriaadvocate.com',\n",
              "   'source_icon': 'https://n.bytvi.com/victoriaadvocate.jpg',\n",
              "   'language': 'english',\n",
              "   'country': ['united states of america'],\n",
              "   'category': ['health'],\n",
              "   'sentiment': 'ONLY AVAILABLE IN PROFESSIONAL AND CORPORATE PLANS',\n",
              "   'sentiment_stats': 'ONLY AVAILABLE IN PROFESSIONAL AND CORPORATE PLANS',\n",
              "   'ai_tag': 'ONLY AVAILABLE IN PROFESSIONAL AND CORPORATE PLANS',\n",
              "   'ai_region': 'ONLY AVAILABLE IN CORPORATE PLANS',\n",
              "   'ai_org': 'ONLY AVAILABLE IN CORPORATE PLANS',\n",
              "   'duplicate': True},\n",
              "  {'article_id': '89f5bcfc70fb16b65d88eb768a8ec5b8',\n",
              "   'title': 'Terzo mandato, l’ipotesi del governo Meloni di dire sì con un decreto (e mettere pace nella maggioranza)',\n",
              "   'link': 'https://www.open.online/2025/05/21/terzo-mandato-ipotesi-intervento-governo-meloni/',\n",
              "   'keywords': ['centrodestra',\n",
              "    'trento',\n",
              "    'friuli-venezia giulia',\n",
              "    'governo meloni',\n",
              "    'veneto',\n",
              "    'politica',\n",
              "    'giorgia meloni'],\n",
              "   'creator': ['Sara Menafra'],\n",
              "   'description': \"I segnali di distensione da parte di Fratelli d'Italia (e ovviamente Lega). C'è da superare l'ostilità di Forza ItaliaL'articolo Terzo mandato, l’ipotesi del governo Meloni di dire sì con un decreto (e mettere pace nella maggioranza) proviene da Open.\",\n",
              "   'content': 'ONLY AVAILABLE IN PAID PLANS',\n",
              "   'pubDate': '2025-05-21 20:26:00',\n",
              "   'pubDateTZ': 'UTC',\n",
              "   'image_url': 'https://static.open.online/wp-content/uploads/2025/05/giorgia-meloni-luca-zaia-mandato.jpg',\n",
              "   'video_url': None,\n",
              "   'source_id': 'open',\n",
              "   'source_name': 'Open',\n",
              "   'source_priority': 1266079,\n",
              "   'source_url': 'https://www.open.online',\n",
              "   'source_icon': 'https://n.bytvi.com/open.png',\n",
              "   'language': 'italian',\n",
              "   'country': ['italy'],\n",
              "   'category': ['top'],\n",
              "   'sentiment': 'ONLY AVAILABLE IN PROFESSIONAL AND CORPORATE PLANS',\n",
              "   'sentiment_stats': 'ONLY AVAILABLE IN PROFESSIONAL AND CORPORATE PLANS',\n",
              "   'ai_tag': 'ONLY AVAILABLE IN PROFESSIONAL AND CORPORATE PLANS',\n",
              "   'ai_region': 'ONLY AVAILABLE IN CORPORATE PLANS',\n",
              "   'ai_org': 'ONLY AVAILABLE IN CORPORATE PLANS',\n",
              "   'duplicate': False},\n",
              "  {'article_id': '9efd6f305f09a39f5ac2c6c814efd0d2',\n",
              "   'title': 'الشارقة يطارد وصافة «الدوري» أمام خورفكان اليوم',\n",
              "   'link': 'https://www.albayan.ae/sports/football/big-leagues/60056',\n",
              "   'keywords': None,\n",
              "   'creator': None,\n",
              "   'description': None,\n",
              "   'content': 'ONLY AVAILABLE IN PAID PLANS',\n",
              "   'pubDate': '2025-05-21 20:26:00',\n",
              "   'pubDateTZ': 'UTC',\n",
              "   'image_url': 'https://www.albayan.ae/albayan/uploads/images/2025/05/21/4792277.jpg',\n",
              "   'video_url': None,\n",
              "   'source_id': 'albayan',\n",
              "   'source_name': 'Al Bayan',\n",
              "   'source_priority': 227285,\n",
              "   'source_url': 'https://www.albayan.ae',\n",
              "   'source_icon': 'https://n.bytvi.com/albayan.png',\n",
              "   'language': 'arabic',\n",
              "   'country': ['united arab emirates'],\n",
              "   'category': ['sports'],\n",
              "   'sentiment': 'ONLY AVAILABLE IN PROFESSIONAL AND CORPORATE PLANS',\n",
              "   'sentiment_stats': 'ONLY AVAILABLE IN PROFESSIONAL AND CORPORATE PLANS',\n",
              "   'ai_tag': 'ONLY AVAILABLE IN PROFESSIONAL AND CORPORATE PLANS',\n",
              "   'ai_region': 'ONLY AVAILABLE IN CORPORATE PLANS',\n",
              "   'ai_org': 'ONLY AVAILABLE IN CORPORATE PLANS',\n",
              "   'duplicate': False},\n",
              "  {'article_id': '555891e2415f3a8e3aea5c806649bc7d',\n",
              "   'title': \"Havalimanında bir hayli eğlendi! İrem Derici'den ilginç dans\",\n",
              "   'link': 'https://www.haberler.com/magazin/havalimaninda-bir-hayli-eglendi-irem-derici-den-18658531-haberi/',\n",
              "   'keywords': None,\n",
              "   'creator': ['Haberler'],\n",
              "   'description': 'İrem Derici, havalimanında bahçe sularken elden düşen hortum gibi dans etti.',\n",
              "   'content': 'ONLY AVAILABLE IN PAID PLANS',\n",
              "   'pubDate': '2025-05-21 20:26:00',\n",
              "   'pubDateTZ': 'UTC',\n",
              "   'image_url': 'https://foto.haberler.com/haber/2025/05/21/havalimaninda-bir-hayli-eglendi-irem-derici-den-18658532_9750_amp.jpg',\n",
              "   'video_url': None,\n",
              "   'source_id': 'haberler',\n",
              "   'source_name': 'Haberler',\n",
              "   'source_priority': 1358,\n",
              "   'source_url': 'https://www.haberler.com',\n",
              "   'source_icon': 'https://n.bytvi.com/haberler.png',\n",
              "   'language': 'turkish',\n",
              "   'country': ['turkey'],\n",
              "   'category': ['other'],\n",
              "   'sentiment': 'ONLY AVAILABLE IN PROFESSIONAL AND CORPORATE PLANS',\n",
              "   'sentiment_stats': 'ONLY AVAILABLE IN PROFESSIONAL AND CORPORATE PLANS',\n",
              "   'ai_tag': 'ONLY AVAILABLE IN PROFESSIONAL AND CORPORATE PLANS',\n",
              "   'ai_region': 'ONLY AVAILABLE IN CORPORATE PLANS',\n",
              "   'ai_org': 'ONLY AVAILABLE IN CORPORATE PLANS',\n",
              "   'duplicate': False},\n",
              "  {'article_id': 'c418f05f5880b9d7585266c6c6a755af',\n",
              "   'title': 'Pogledajte trenutak kad je Marcelo Brozović srušio osobni rekord; nikad mu se u karijeri to nije dogodilo',\n",
              "   'link': 'https://www.tportal.hr/sport/clanak/pogledajte-trenutak-kad-je-marcelo-brozovic-srusio-osobni-rekord-nikad-mu-se-u-karijeri-to-nije-dogodilo-20250521',\n",
              "   'keywords': ['sport'],\n",
              "   'creator': None,\n",
              "   'description': 'U utakmici pretposljednjeg, 33. kola saudijske Premier lige Al Nassr je s 2:0 pobijedio Al Khaleej, a golove su zabili Duran i Cristiano Ronaldo.',\n",
              "   'content': 'ONLY AVAILABLE IN PAID PLANS',\n",
              "   'pubDate': '2025-05-21 20:26:00',\n",
              "   'pubDateTZ': 'UTC',\n",
              "   'image_url': 'https://www.tportal.hr/media/thumbnail/500x300/2508277.jpeg?cropId=3553285',\n",
              "   'video_url': None,\n",
              "   'source_id': 'tportal',\n",
              "   'source_name': 'Tportal',\n",
              "   'source_priority': 76899,\n",
              "   'source_url': 'https://www.tportal.hr',\n",
              "   'source_icon': 'https://n.bytvi.com/tportal.png',\n",
              "   'language': 'croatian',\n",
              "   'country': ['croatia'],\n",
              "   'category': ['sports'],\n",
              "   'sentiment': 'ONLY AVAILABLE IN PROFESSIONAL AND CORPORATE PLANS',\n",
              "   'sentiment_stats': 'ONLY AVAILABLE IN PROFESSIONAL AND CORPORATE PLANS',\n",
              "   'ai_tag': 'ONLY AVAILABLE IN PROFESSIONAL AND CORPORATE PLANS',\n",
              "   'ai_region': 'ONLY AVAILABLE IN CORPORATE PLANS',\n",
              "   'ai_org': 'ONLY AVAILABLE IN CORPORATE PLANS',\n",
              "   'duplicate': False},\n",
              "  {'article_id': '8f879a2044aab2b04a2e1dec83e13155',\n",
              "   'title': 'NBA sezono MVP pripažintas Gilgeousas-Alexanderis',\n",
              "   'link': 'https://www.lrt.lt/naujienos/sportas/10/2570490/nba-sezono-mvp-pripazintas-gilgeousas-alexanderis',\n",
              "   'keywords': ['sportas'],\n",
              "   'creator': None,\n",
              "   'description': 'NBA sezono naudingiausio žaidėjo (MVP) titulas atiteko Oklahomos „Thunder“ komandos krepšininkui Shai Gilgeousui-Alexanderiui. Apie tai pranešta ESPN žurnalistas Shamsas Charania.',\n",
              "   'content': 'ONLY AVAILABLE IN PAID PLANS',\n",
              "   'pubDate': '2025-05-21 20:26:00',\n",
              "   'pubDateTZ': 'UTC',\n",
              "   'image_url': 'https://www.lrt.lt/img/2025/05/21/2078826-632631-1287x836.jpg',\n",
              "   'video_url': None,\n",
              "   'source_id': 'lrt',\n",
              "   'source_name': 'Lrt',\n",
              "   'source_priority': 148707,\n",
              "   'source_url': 'https://www.lrt.lt',\n",
              "   'source_icon': 'https://n.bytvi.com/lrt.png',\n",
              "   'language': 'lithuanian',\n",
              "   'country': ['lithuania'],\n",
              "   'category': ['top'],\n",
              "   'sentiment': 'ONLY AVAILABLE IN PROFESSIONAL AND CORPORATE PLANS',\n",
              "   'sentiment_stats': 'ONLY AVAILABLE IN PROFESSIONAL AND CORPORATE PLANS',\n",
              "   'ai_tag': 'ONLY AVAILABLE IN PROFESSIONAL AND CORPORATE PLANS',\n",
              "   'ai_region': 'ONLY AVAILABLE IN CORPORATE PLANS',\n",
              "   'ai_org': 'ONLY AVAILABLE IN CORPORATE PLANS',\n",
              "   'duplicate': False},\n",
              "  {'article_id': '04419776376633eb9d619a8cc7f346c6',\n",
              "   'title': 'الشارقة يطارد وصافة «الدوري» أمام خورفكان اليوم - البيان',\n",
              "   'link': 'https://news.google.com/rss/articles/CBMiZ0FVX3lxTE9HLTdWdGo0aE04dFdTRTVDdU9iTVNRclJoX1FwTnhWVnZ3bE1INE8yOXRWdllqTDRXU2xQeVdZR1lUY3ZaOEJsSWFPWkdMY2ctSjliWkF0azk0NmJJMFFUNWVKSXdXRmfSAWxBVV95cUxQZ3NGempCeHNzeUhTbnFkaXQzU2RrQl9pZUVwMDBDOE0wQkJhenJIMzh4d3lBWWxlTVZUam91U05SLWhJdTRwRWQ5YWt6UnZMZ0tNMHEtRjBkZ0VDd1lncmRvVWdOZlN3a0thVUk?oc=5',\n",
              "   'keywords': None,\n",
              "   'creator': None,\n",
              "   'description': 'الشارقة يطارد وصافة «الدوري» أمام خورفكان اليوم البيانترتيب هدافي الدوري الإماراتي 2024-2025.. صراع مشتعل على الصدارة 365Scoresالدوري الإماراتي: الصراع يشتعل على المركز الثاني الشرق الأوسطدوري أدنوك للمحترفين.. الجولة 25 تشعل المنافسة على المقاعد الآسيوية موقع 24ترتيب الدوري الإماراتي 2024-2025 بعد نهاية مباريات الثلاثاء 365Scores',\n",
              "   'content': 'ONLY AVAILABLE IN PAID PLANS',\n",
              "   'pubDate': '2025-05-21 20:26:00',\n",
              "   'pubDateTZ': 'UTC',\n",
              "   'image_url': None,\n",
              "   'video_url': None,\n",
              "   'source_id': 'google',\n",
              "   'source_name': 'Google News',\n",
              "   'source_priority': 14,\n",
              "   'source_url': 'https://news.google.com',\n",
              "   'source_icon': 'https://n.bytvi.com/google.png',\n",
              "   'language': 'arabic',\n",
              "   'country': ['united arab emirates'],\n",
              "   'category': ['sports'],\n",
              "   'sentiment': 'ONLY AVAILABLE IN PROFESSIONAL AND CORPORATE PLANS',\n",
              "   'sentiment_stats': 'ONLY AVAILABLE IN PROFESSIONAL AND CORPORATE PLANS',\n",
              "   'ai_tag': 'ONLY AVAILABLE IN PROFESSIONAL AND CORPORATE PLANS',\n",
              "   'ai_region': 'ONLY AVAILABLE IN CORPORATE PLANS',\n",
              "   'ai_org': 'ONLY AVAILABLE IN CORPORATE PLANS',\n",
              "   'duplicate': False},\n",
              "  {'article_id': '3024f618994aa82a006a13b63d5ae64c',\n",
              "   'title': 'ديكنز في ضيافة بدر بن عبد المحسن',\n",
              "   'link': 'https://www.alwatan.com.sa/article/1165574',\n",
              "   'keywords': None,\n",
              "   'creator': ['watanpress@alwatan.com.sa(أنس-الرشيد)'],\n",
              "   'description': 'من غرائب الصدف أن أسمع صوت الشاعر بدر بن عبد المحسن يتلو قصيدته الأخيرة (صوتي تجرّح ما بقى غير همسي) وهو على فراش الموت، ذاكرًا أنَّه عاشَ سبعين سنة سعيدة لكنَّ الليالي استكثرت طول عرسه، فهو مسرور حزين، ثم بعد أن يتملكني الحزنُ على أفول البدر وأسعى لطرده بتقليب كتبي، وإعادة النَّظر فيها، أجد رواية بين مدينتين لديكنز، وأفتحها عشوائيًا فأجد مقولة: «كان ذلك أسوأ الأزمنة وأحسنها»، وكأنَّ المكتبة بدل أن تطرد الحزن شرحت أسبابه؛ فقد حوى مشهد ابتعاد البدر عن مدار الأرض، وقصيدته الأخيرة أسوأ الأزمنة وأحسنها. كما أني رأيت أنَّ تلك الحادثة لم تكن صدفة بحتة، بل هي دعوة للالتفات إلى تشابه بين رومانسيتين، رومانسية ديكنز التي تقف بين المدارس الثلاث الكبرى (الرومانسية والواقعية والطبيعية) لتصنع خطًا خاصًا داخل المدينة يُراقب الغليان بحذر، ويقول إنَّ العدل المنتظر -بعد الثورات- يتحول إلى انتقام عبثي، كما هو ظاهر رواية بين مدينتين التي تخيط حكاية من قلب الثورة الفرنسية ونتائجها المرعبة والتوترات التي سبقتها، ورومانسية بدر بن عبد المحسن المتمثلة في القصائد التي تراقب من بعيد حافة الغليانِ الإنساني، فبدر كمدينة لندن تلك المدينة التي كانت -في رواية بين مدينتين- تراقب مدينة باريس وهي تغلي، تراقبها وتكتب التاريخ دون أن تتورط فيه، لكن بدر في قصيدته الأخيرة يقول «لا بدّها يا سعود بتغيب شمسي» وهي اللحظة التي لا يستطيع الإنسان فيها إلا أن يكون في قلب النار لا مراقبًا لها؛ وهو ما جعله يقول بعدها «ولعلها حريتي بعد حبسي» تقاطعًا مع قول المعري: «وكون النفس في الجسد الخبيث»، وكأنَّ البدر يقول «هذه قصيدتي التي أصبحت فيها باريس لا لندن»، فهذه القصيدة تعبّر عن توترات الجسد قبل أن تغادره الروح، توترات ما قبل ثورة الروح على الجسد، وفي الرواية فإن باريس كانت علامة على التمرد الذي لا يُروَّض، ولندن علامة النظام الذي لا يُفكّك، وظل بين هذين المعنيين شخصية (سيدني كارتون) الرجل النبيل، الذي لم يكن متمردًا ولا نظاميًا، بل هو الذي ضحى من أجل المعنى الأخير في لحظة الموت، إذ لمَّا عاد بطل الرواية ( تشارلز دارني) إلى باريس في ذروة الثورة لإنقاذ أحد الخدم اعتُقل لأنه أرستقراطي، وهناك في وسط محاكم الثورة الحمقاء والمشانق المتربصة بالحكماء يظهر سيدني ليأخذ هوية تشارلز دارني ويصعد إلى المشنقةِ بدلًا منه، وفي القصيدة الأخيرة للبدر تحدَّث عن تضحية أخيه سعود الذي لم يعدّه إلا نفسه: «لولاي أحبك ما تذكرت نفسي» وكأن سعود يخرج للملأ بطلًا من حياة البدر، كما خرج سيدني بطلًا من حياة تشارلز، وكأن ديكنز والبدر يقولان لنا: لا يقاس الإنسان بالماضي بل بالمعنى الأخير الذي يختاره حين يكون حرًا تمامًا.التفاتة:ديكنز لم يكتب في الطبيعة البريئة والإنسان المتفرد والعاطفة الجياشة كما الرومانسيين، بل في قلب المدينة التي لا تجعل البطل شاعرا حالما في الغابات، بل مناضلًا في الحياة، لكنَّه -في الوقت نفسه- كان رومانسيا؛ لأنه كان مثاليا في بناء الأخلاق كجعله سيدني تضحي من أجل تشارلز، ولأنه كان يُصور الشر قُبحًا أخلاقيا لا مجرد خلل اجتماعي، ولأنه يركز على فكرة الخلاص بالحب وراحة الضمير، فمن كلمات سيدني كارتون -في رواية بين مدينتين- أن الموت ليس فناءً بل راحة، ولم يكن يُفكّر بها كمعنى مطلق بل بمعنى راحة الضمير، وهو أن تتحرّر الروح من آثام الجسد.',\n",
              "   'content': 'ONLY AVAILABLE IN PAID PLANS',\n",
              "   'pubDate': '2025-05-21 20:26:00',\n",
              "   'pubDateTZ': 'UTC',\n",
              "   'image_url': 'https://www.alwatan.com.sa/themes/watanksa/images/no-image.png',\n",
              "   'video_url': None,\n",
              "   'source_id': 'alwatan_sa',\n",
              "   'source_name': 'الرئيسية',\n",
              "   'source_priority': 2205509,\n",
              "   'source_url': 'https://www.alwatan.com.sa',\n",
              "   'source_icon': 'https://n.bytvi.com/alwatan_sa.png',\n",
              "   'language': 'arabic',\n",
              "   'country': ['saudi arabia'],\n",
              "   'category': ['education'],\n",
              "   'sentiment': 'ONLY AVAILABLE IN PROFESSIONAL AND CORPORATE PLANS',\n",
              "   'sentiment_stats': 'ONLY AVAILABLE IN PROFESSIONAL AND CORPORATE PLANS',\n",
              "   'ai_tag': 'ONLY AVAILABLE IN PROFESSIONAL AND CORPORATE PLANS',\n",
              "   'ai_region': 'ONLY AVAILABLE IN CORPORATE PLANS',\n",
              "   'ai_org': 'ONLY AVAILABLE IN CORPORATE PLANS',\n",
              "   'duplicate': False}],\n",
              " 'nextPage': '1747859160713953773'}"
            ]
          },
          "metadata": {},
          "execution_count": 84
        }
      ]
    },
    {
      "cell_type": "code",
      "source": [
        "articles = response.json().get(\"results\", [])\n",
        "print(len(articles))\n",
        "data = articles[1]\n",
        "data['country']"
      ],
      "metadata": {
        "colab": {
          "base_uri": "https://localhost:8080/"
        },
        "id": "Xtp85ABtFcvP",
        "outputId": "07bd2896-8449-4e26-b53d-cb3b7b2ddab1"
      },
      "execution_count": null,
      "outputs": [
        {
          "output_type": "stream",
          "name": "stdout",
          "text": [
            "10\n"
          ]
        },
        {
          "output_type": "execute_result",
          "data": {
            "text/plain": [
              "['russia']"
            ]
          },
          "metadata": {},
          "execution_count": 113
        }
      ]
    },
    {
      "cell_type": "code",
      "source": [
        "from fastapi import FastApi, Path\n",
        "from typing import Optional\n",
        "from pydantic import BaseModel\n",
        "\n",
        "app = FastApi()"
      ],
      "metadata": {
        "id": "C8haeDCbSJoP",
        "outputId": "75d78a98-6319-4db6-88d1-72f029e16fab",
        "colab": {
          "base_uri": "https://localhost:8080/",
          "height": 384
        }
      },
      "execution_count": null,
      "outputs": [
        {
          "output_type": "error",
          "ename": "ModuleNotFoundError",
          "evalue": "No module named 'fastapi'",
          "traceback": [
            "\u001b[0;31m---------------------------------------------------------------------------\u001b[0m",
            "\u001b[0;31mModuleNotFoundError\u001b[0m                       Traceback (most recent call last)",
            "\u001b[0;32m<ipython-input-114-bbd30917b1cd>\u001b[0m in \u001b[0;36m<cell line: 0>\u001b[0;34m()\u001b[0m\n\u001b[0;32m----> 1\u001b[0;31m \u001b[0;32mfrom\u001b[0m \u001b[0mfastapi\u001b[0m \u001b[0;32mimport\u001b[0m \u001b[0mFastApi\u001b[0m\u001b[0;34m,\u001b[0m \u001b[0mPath\u001b[0m\u001b[0;34m\u001b[0m\u001b[0;34m\u001b[0m\u001b[0m\n\u001b[0m\u001b[1;32m      2\u001b[0m \u001b[0;32mfrom\u001b[0m \u001b[0mtyping\u001b[0m \u001b[0;32mimport\u001b[0m \u001b[0mOptional\u001b[0m\u001b[0;34m\u001b[0m\u001b[0;34m\u001b[0m\u001b[0m\n\u001b[1;32m      3\u001b[0m \u001b[0;32mfrom\u001b[0m \u001b[0mpydantic\u001b[0m \u001b[0;32mimport\u001b[0m \u001b[0mBaseModel\u001b[0m\u001b[0;34m\u001b[0m\u001b[0;34m\u001b[0m\u001b[0m\n\u001b[1;32m      4\u001b[0m \u001b[0;34m\u001b[0m\u001b[0m\n\u001b[1;32m      5\u001b[0m \u001b[0mapp\u001b[0m \u001b[0;34m=\u001b[0m \u001b[0mFastApi\u001b[0m\u001b[0;34m(\u001b[0m\u001b[0;34m)\u001b[0m\u001b[0;34m\u001b[0m\u001b[0;34m\u001b[0m\u001b[0m\n",
            "\u001b[0;31mModuleNotFoundError\u001b[0m: No module named 'fastapi'",
            "",
            "\u001b[0;31m---------------------------------------------------------------------------\u001b[0;32m\nNOTE: If your import is failing due to a missing package, you can\nmanually install dependencies using either !pip or !apt.\n\nTo view examples of installing some common dependencies, click the\n\"Open Examples\" button below.\n\u001b[0;31m---------------------------------------------------------------------------\u001b[0m\n"
          ],
          "errorDetails": {
            "actions": [
              {
                "action": "open_url",
                "actionText": "Open Examples",
                "url": "/notebooks/snippets/importing_libraries.ipynb"
              }
            ]
          }
        }
      ]
    }
  ]
}