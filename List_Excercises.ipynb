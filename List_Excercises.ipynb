{
 "cells": [
  {
   "cell_type": "code",
   "execution_count": 1,
   "id": "ad9f0c6b",
   "metadata": {},
   "outputs": [
    {
     "name": "stdout",
     "output_type": "stream",
     "text": [
      "['lion', 'cat', 'dog', 'elephant', 'tiger']\n"
     ]
    }
   ],
   "source": [
    "#  Append and insert\n",
    "animals = [\"cat\", \"dog\", \"elephant\"]\n",
    "animals.append(\"tiger\")\n",
    "animals.insert(0, \"lion\")\n",
    "print(animals)\n",
    "\n",
    "#result: [lion, dog, elephant, tiger]"
   ]
  },
  {
   "cell_type": "code",
   "execution_count": 30,
   "id": "6876d450",
   "metadata": {},
   "outputs": [
    {
     "data": {
      "text/plain": [
       "[1, 22, 3, 4, 5, 6, 2, 7, 8, 9]"
      ]
     },
     "execution_count": 30,
     "metadata": {},
     "output_type": "execute_result"
    }
   ],
   "source": [
    "# remove elements\n",
    "nums = [1, 22, 3, 4, 2, 5, 6, 2, 7, 8, 9]\n",
    "nums.pop(4)\n",
    "#nums.remove(2)\n",
    "#del nums[3]\n",
    "nums"
   ]
  },
  {
   "cell_type": "code",
   "execution_count": 14,
   "id": "86e803e9",
   "metadata": {},
   "outputs": [
    {
     "name": "stdout",
     "output_type": "stream",
     "text": [
      "['Charlie', 'Bob', 'Alice']\n"
     ]
    }
   ],
   "source": [
    "names = [\"Alice\", \"Bob\", \"Charlie\"]\n",
    "#names.reverse()\n",
    "print(names[::-1])"
   ]
  },
  {
   "cell_type": "code",
   "execution_count": 21,
   "id": "8d206018",
   "metadata": {},
   "outputs": [
    {
     "name": "stdout",
     "output_type": "stream",
     "text": [
      "(1, 2, 3, 'a', 'b', 'c')\n"
     ]
    }
   ],
   "source": [
    "#Merge two lists into a list of tuples\n",
    "\n",
    "list1 = [1, 2, 3]\n",
    "list2 = ['a', 'b', 'c']\n",
    "s = list1 + list2\n",
    "print(tuple(s))"
   ]
  },
  {
   "cell_type": "code",
   "execution_count": 24,
   "id": "66e64292",
   "metadata": {},
   "outputs": [
    {
     "name": "stdout",
     "output_type": "stream",
     "text": [
      "Expected output: cherry\n"
     ]
    }
   ],
   "source": [
    "fruits = ['apple', 'banana', 'cherry', 'orange']\n",
    "# Expected output: 'cherry'\n",
    "print(f\"Expected output: {fruits[-2]}\")"
   ]
  },
  {
   "cell_type": "code",
   "execution_count": 26,
   "id": "80df7378",
   "metadata": {},
   "outputs": [
    {
     "name": "stdout",
     "output_type": "stream",
     "text": [
      "Expected output: [4, 5, 6]\n"
     ]
    }
   ],
   "source": [
    "numbers = [1, 2, 3, 4, 5, 6, 7, 8, 9]\n",
    "# Expected output: [4, 5, 6]\n",
    "print(f\"Expected output: {numbers[3:6]}\")"
   ]
  },
  {
   "cell_type": "code",
   "execution_count": 27,
   "id": "046171b2",
   "metadata": {},
   "outputs": [
    {
     "data": {
      "text/plain": [
       "[1, 2, 3, 4, 5, 10]"
      ]
     },
     "execution_count": 27,
     "metadata": {},
     "output_type": "execute_result"
    }
   ],
   "source": [
    "nums = [1, 2, 3, 4, 5]\n",
    "nums.append(10)\n",
    "# Expected output: [1, 2, 3, 4, 5, 10]\n",
    "nums"
   ]
  },
  {
   "cell_type": "code",
   "execution_count": 32,
   "id": "59bcac58",
   "metadata": {},
   "outputs": [
    {
     "data": {
      "text/plain": [
       "[1, 2, 100, 3, 4]"
      ]
     },
     "execution_count": 32,
     "metadata": {},
     "output_type": "execute_result"
    }
   ],
   "source": [
    "lst = [1, 2, 3, 4]\n",
    "lst.insert(2,100)\n",
    "lst\n",
    "# Expected output: [1, 2, 100, 3, 4]"
   ]
  },
  {
   "cell_type": "code",
   "execution_count": 35,
   "id": "5fbf78b9",
   "metadata": {},
   "outputs": [
    {
     "data": {
      "text/plain": [
       "[1, 2, 4, 5]"
      ]
     },
     "execution_count": 35,
     "metadata": {},
     "output_type": "execute_result"
    }
   ],
   "source": [
    "numbers = [1, 2, 3, 4, 5]\n",
    "# Expected output: [1, 2, 4, 5]\n",
    "numbers.remove(3)\n",
    "numbers\n"
   ]
  },
  {
   "cell_type": "code",
   "execution_count": 39,
   "id": "132d2709",
   "metadata": {},
   "outputs": [
    {
     "name": "stdout",
     "output_type": "stream",
     "text": [
      "3\n"
     ]
    }
   ],
   "source": [
    "lst = [1, 2, 3, 2, 4, 2, 5]\n",
    "# Expected output: 3\n",
    "print(lst.count(2))\n"
   ]
  },
  {
   "cell_type": "code",
   "execution_count": 40,
   "id": "dd5fb614",
   "metadata": {},
   "outputs": [
    {
     "name": "stdout",
     "output_type": "stream",
     "text": [
      "3\n"
     ]
    }
   ],
   "source": [
    "animals = [\"dog\", \"cat\", \"fish\"]\n",
    "# Expected output: 3\n",
    "print(len(animals))"
   ]
  },
  {
   "cell_type": "code",
   "execution_count": 41,
   "id": "72f8a0cc",
   "metadata": {},
   "outputs": [
    {
     "name": "stdout",
     "output_type": "stream",
     "text": [
      "True\n"
     ]
    }
   ],
   "source": [
    "nums = [1, 2, 3, 4, 5]\n",
    "# Expected output: True\n",
    "print(5 in nums)"
   ]
  },
  {
   "cell_type": "code",
   "execution_count": 44,
   "id": "1c495f5b",
   "metadata": {},
   "outputs": [
    {
     "data": {
      "text/plain": [
       "[1, 2, 3, 4, 5, 6]"
      ]
     },
     "execution_count": 44,
     "metadata": {},
     "output_type": "execute_result"
    }
   ],
   "source": [
    "list1 = [1, 2, 3]\n",
    "list2 = [4, 5, 6]\n",
    "# Expected output: [1, 2, 3, 4, 5, 6]\n",
    "#list1 = list1 + list2\n",
    "#list1.append(list2)\n",
    "list1.extend(list2)\n",
    "list1"
   ]
  },
  {
   "cell_type": "code",
   "execution_count": 47,
   "id": "ca18763c",
   "metadata": {},
   "outputs": [
    {
     "name": "stdout",
     "output_type": "stream",
     "text": [
      "3\n"
     ]
    }
   ],
   "source": [
    "lst = [1, 2, 3, 4, 5]\n",
    "# Expected output: 3\n",
    "print(lst.index(4))"
   ]
  },
  {
   "cell_type": "code",
   "execution_count": 50,
   "id": "fcd38d23",
   "metadata": {},
   "outputs": [
    {
     "data": {
      "text/plain": [
       "['blue', 'green', 'red']"
      ]
     },
     "execution_count": 50,
     "metadata": {},
     "output_type": "execute_result"
    }
   ],
   "source": [
    "colors = [\"red\", \"green\", \"blue\"]\n",
    "# Expected output: ['blue', 'green', 'red']\n",
    "#print(colors[::-1])\n",
    "colors.reverse()\n",
    "colors"
   ]
  },
  {
   "cell_type": "code",
   "execution_count": 59,
   "id": "d8e12210",
   "metadata": {},
   "outputs": [
    {
     "name": "stdout",
     "output_type": "stream",
     "text": [
      "Smallest: 4 \n",
      " Largest: 99\n"
     ]
    }
   ],
   "source": [
    "numbers = [10, 20, 4, 45, 99]\n",
    "# Expected output: \n",
    "# Smallest: 4\n",
    "# Largest: 99\n",
    "largest = max(numbers)\n",
    "smallest = min(numbers)\n",
    "#print(f\"Smallest: {smallest}\",\"\\n\", f\"Largest: {largest}\")\n",
    "print(f\"Smallest: {smallest} \\n Largest: {largest}\")\n",
    "\n"
   ]
  },
  {
   "cell_type": "code",
   "execution_count": 61,
   "id": "986303d5",
   "metadata": {},
   "outputs": [
    {
     "data": {
      "text/plain": [
       "[]"
      ]
     },
     "execution_count": 61,
     "metadata": {},
     "output_type": "execute_result"
    }
   ],
   "source": [
    "nums = [1, 2, 3, 4, 5]\n",
    "# Expected output: []\n",
    "nums.clear()\n",
    "nums"
   ]
  },
  {
   "cell_type": "code",
   "execution_count": 70,
   "id": "d4d66dbf",
   "metadata": {},
   "outputs": [
    {
     "data": {
      "text/plain": [
       "[10, 10, 10, 10, 10]"
      ]
     },
     "execution_count": 70,
     "metadata": {},
     "output_type": "execute_result"
    }
   ],
   "source": [
    "# Expected output: [10, 10, 10, 10, 10]\n",
    "list = [10] * 5\n",
    "list"
   ]
  },
  {
   "cell_type": "code",
   "execution_count": 71,
   "id": "d283f029",
   "metadata": {},
   "outputs": [
    {
     "name": "stdout",
     "output_type": "stream",
     "text": [
      "[3, 4, 5, 6]\n"
     ]
    }
   ],
   "source": [
    "# Extract a sublist from index 2 to 5 (inclusive) from a list.\n",
    "\n",
    "lst = [1, 2, 3, 4, 5, 6, 7]\n",
    "print(lst[2:6])\n",
    "# Expected output: [3, 4, 5, 6]"
   ]
  },
  {
   "cell_type": "code",
   "execution_count": 73,
   "id": "d5877c23",
   "metadata": {},
   "outputs": [
    {
     "data": {
      "text/plain": [
       "False"
      ]
     },
     "execution_count": 73,
     "metadata": {},
     "output_type": "execute_result"
    }
   ],
   "source": [
    "lst1 = []\n",
    "lst2 = [1, 2, 3]\n",
    "not lst2"
   ]
  },
  {
   "cell_type": "code",
   "execution_count": 74,
   "id": "73b8e15b",
   "metadata": {},
   "outputs": [
    {
     "name": "stdout",
     "output_type": "stream",
     "text": [
      "15\n"
     ]
    }
   ],
   "source": [
    "numbers = [1, 2, 3, 4, 5]\n",
    "# Expected output: 15\n",
    "print(sum(numbers))"
   ]
  },
  {
   "cell_type": "code",
   "execution_count": 90,
   "id": "ff6f211e",
   "metadata": {},
   "outputs": [
    {
     "data": {
      "text/plain": [
       "[9, 7, 4, 3, 2, 1]"
      ]
     },
     "execution_count": 90,
     "metadata": {},
     "output_type": "execute_result"
    }
   ],
   "source": [
    "nums = [4, 1, 7, 3, 9, 2]\n",
    "# Expected output: [1, 2, 3, 4, 7, 9]\n",
    "nums.sort(reverse = True)\n",
    "nums"
   ]
  },
  {
   "cell_type": "code",
   "execution_count": 95,
   "id": "848e52ab",
   "metadata": {},
   "outputs": [
    {
     "data": {
      "text/plain": [
       "2"
      ]
     },
     "execution_count": 95,
     "metadata": {},
     "output_type": "execute_result"
    }
   ],
   "source": [
    "lst = [1, 2, 3, 4, 3, 5]\n",
    "# Expected output: 2\n",
    "lst.index(3)"
   ]
  },
  {
   "cell_type": "code",
   "execution_count": 108,
   "id": "601de782",
   "metadata": {},
   "outputs": [
    {
     "data": {
      "text/plain": [
       "[1, 100, 3, 100, 4, 100]"
      ]
     },
     "execution_count": 108,
     "metadata": {},
     "output_type": "execute_result"
    }
   ],
   "source": [
    "lst = [1, 2, 3, 2, 4, 2]\n",
    "# Expected output: [1, 100, 3, 100, 4, 100]\n",
    "lst = [100 if x == 2 else x for x in lst]\n",
    "lst\n"
   ]
  },
  {
   "cell_type": "code",
   "execution_count": 110,
   "id": "9d80de00",
   "metadata": {},
   "outputs": [
    {
     "data": {
      "text/plain": [
       "5"
      ]
     },
     "execution_count": 110,
     "metadata": {},
     "output_type": "execute_result"
    }
   ],
   "source": [
    "lst = [1, 2, 3, 4, 5]\n",
    "# Expected output: \n",
    "# First: 1\n",
    "# Last: 5\n",
    "lst[-1]"
   ]
  },
  {
   "cell_type": "code",
   "execution_count": 112,
   "id": "777b67a8",
   "metadata": {},
   "outputs": [
    {
     "data": {
      "text/plain": [
       "{'a': 1, 'b': 2, 'c': 3}"
      ]
     },
     "execution_count": 112,
     "metadata": {},
     "output_type": "execute_result"
    }
   ],
   "source": [
    "keys = ['a', 'b', 'c']\n",
    "values = [1, 2, 3]\n",
    "# Expected output: {'a': 1, 'b': 2, 'c': 3}\n",
    "dict_output = dict(zip(keys,values))\n",
    "dict_output\n"
   ]
  },
  {
   "cell_type": "code",
   "execution_count": 114,
   "id": "ff313e05",
   "metadata": {},
   "outputs": [
    {
     "data": {
      "text/plain": [
       "[1, 2, 3, 5, 4]"
      ]
     },
     "execution_count": 114,
     "metadata": {},
     "output_type": "execute_result"
    }
   ],
   "source": [
    "lst = [1, 2, 3, 4, 5, 4]\n",
    "# Expected output: [1, 2, 3, 5, 4]\n",
    "lst.remove(4)\n",
    "lst"
   ]
  },
  {
   "cell_type": "code",
   "execution_count": 127,
   "id": "f7509a9d",
   "metadata": {},
   "outputs": [
    {
     "data": {
      "text/plain": [
       "[2, 4, 6, 8]"
      ]
     },
     "execution_count": 127,
     "metadata": {},
     "output_type": "execute_result"
    }
   ],
   "source": [
    "numbers = [1, 2, 3, 4, 5, 6, 7, 8]\n",
    "# Expected output: [2, 4, 6, 8]\n",
    "even_numbers = [num for num in numbers if num % 2 == 0 ]\n",
    "even_numbers"
   ]
  },
  {
   "cell_type": "code",
   "execution_count": 129,
   "id": "6a3af133",
   "metadata": {},
   "outputs": [
    {
     "data": {
      "text/plain": [
       "[1, 4, 9, 16]"
      ]
     },
     "execution_count": 129,
     "metadata": {},
     "output_type": "execute_result"
    }
   ],
   "source": [
    "numbers = [1, 2, 3, 4]\n",
    "# Expected output: [1, 4, 9, 16]\n",
    "sqaures_Numbers = [num **2 for num in numbers ]\n",
    "sqaures_Numbers"
   ]
  },
  {
   "cell_type": "code",
   "execution_count": null,
   "id": "016d3071",
   "metadata": {},
   "outputs": [],
   "source": []
  }
 ],
 "metadata": {
  "kernelspec": {
   "display_name": ".venv",
   "language": "python",
   "name": "python3"
  },
  "language_info": {
   "codemirror_mode": {
    "name": "ipython",
    "version": 3
   },
   "file_extension": ".py",
   "mimetype": "text/x-python",
   "name": "python",
   "nbconvert_exporter": "python",
   "pygments_lexer": "ipython3",
   "version": "3.10.0"
  }
 },
 "nbformat": 4,
 "nbformat_minor": 5
}
